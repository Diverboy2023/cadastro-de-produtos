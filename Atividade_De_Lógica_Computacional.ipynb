{
  "nbformat": 4,
  "nbformat_minor": 0,
  "metadata": {
    "colab": {
      "provenance": [],
      "authorship_tag": "ABX9TyOylKvRLAG3377ZcLJiEBcb",
      "include_colab_link": true
    },
    "kernelspec": {
      "name": "python3",
      "display_name": "Python 3"
    },
    "language_info": {
      "name": "python"
    }
  },
  "cells": [
    {
      "cell_type": "markdown",
      "metadata": {
        "id": "view-in-github",
        "colab_type": "text"
      },
      "source": [
        "<a href=\"https://colab.research.google.com/github/Diverboy2023/cadastro-de-produtos/blob/main/Atividade_De_L%C3%B3gica_Computacional.ipynb\" target=\"_parent\"><img src=\"https://colab.research.google.com/assets/colab-badge.svg\" alt=\"Open In Colab\"/></a>"
      ]
    },
    {
      "cell_type": "code",
      "execution_count": null,
      "metadata": {
        "colab": {
          "base_uri": "https://localhost:8080/"
        },
        "id": "loMCm5p3kcSc",
        "outputId": "677f1a01-3a5a-4d0a-d6a5-bcad74289232"
      },
      "outputs": [
        {
          "output_type": "stream",
          "name": "stdout",
          "text": [
            "Digite um número: 9\n",
            "O número é ímpar\n"
          ]
        }
      ],
      "source": [
        "# Solicita ao usuário que insira um número\n",
        "numero = int(input(\"Digite um número: \"))\n",
        "\n",
        "# Verifica se o número é par ou ímpar\n",
        "if numero % 2 == 0:\n",
        "  print(\"O número é par\")\n",
        "else:\n",
        "  print(\"O número é ímpar\")"
      ]
    },
    {
      "cell_type": "code",
      "source": [
        "# Solicita ao usuário que insira um número\n",
        "numero1 = int(input(\"Digite um número: \"))\n",
        "numero2 = int(input(\"Digite um número: \"))\n",
        "\n",
        "# Verifica se o numero1 é maior do que numero2\n",
        "if numero1 == numero2:\n",
        "  print(\"Os números fornecidos são iguais\")\n",
        "if numero1 > numero2:\n",
        "  print(\"numero1 é maior que numero2\")\n",
        "else:\n",
        "  print(\"numero2 é maior que numero1\")"
      ],
      "metadata": {
        "colab": {
          "base_uri": "https://localhost:8080/"
        },
        "id": "IYsef7uDnXQr",
        "outputId": "316a1ba0-7c77-4535-fe8a-6305f3bf0dc3"
      },
      "execution_count": null,
      "outputs": [
        {
          "output_type": "stream",
          "name": "stdout",
          "text": [
            "Digite um número: 40\n",
            "Digite um número: 50\n",
            "numero2 é maior que numero1\n"
          ]
        }
      ]
    },
    {
      "cell_type": "code",
      "source": [
        "# Solicita ao usuário que insira um número\n",
        "numero = int(input(\"Digite um número: \"))\n",
        "\n",
        "# Verifica se o numero é maior ou menor de idade\n",
        "if numero > 18:\n",
        "  print(\"numero é maior de idade\")\n",
        "else:\n",
        "  print(\"numero é menor de idade\")"
      ],
      "metadata": {
        "colab": {
          "base_uri": "https://localhost:8080/"
        },
        "id": "oL630vHJq6lb",
        "outputId": "48300c8d-36f3-46e6-9042-9ceced0516f5"
      },
      "execution_count": null,
      "outputs": [
        {
          "output_type": "stream",
          "name": "stdout",
          "text": [
            "Digite um número: 10\n",
            "numero é menor de idade\n"
          ]
        }
      ]
    },
    {
      "cell_type": "code",
      "source": [
        " # Solicita ao usuário que insira um número\n",
        "A = int(input(\"Digite um número: \"))\n",
        "B = int(input(\"Digite um número: \"))\n",
        "C = int(input(\"Digite um número: \"))\n",
        "\n",
        "# Verifica se o numero é maior de três\n",
        "if A <= B and A <= C and B <= C:\n",
        "  print(\"A B C\")\n",
        "else:\n",
        "  print(\"A C B\")\n",
        "\n",
        "if B <= A and B <= C and A <= C:\n",
        "  print(\"B A C\")\n",
        "else:\n",
        "  print(\"B C A\")\n",
        "\n",
        "if C <= A and C <= B and A <= B:\n",
        "  print(\"C A B\")\n",
        "else:\n",
        "  print(\"C B A\")"
      ],
      "metadata": {
        "colab": {
          "base_uri": "https://localhost:8080/"
        },
        "id": "7NOgzAPJt53y",
        "outputId": "4c3d6fe3-f3ba-40ec-d991-b3bdce6c4f7a"
      },
      "execution_count": null,
      "outputs": [
        {
          "output_type": "stream",
          "name": "stdout",
          "text": [
            "Digite um número: 10\n",
            "Digite um número: 20\n",
            "Digite um número: 30\n",
            "A B C\n",
            "B C A\n",
            "C B A\n"
          ]
        }
      ]
    },
    {
      "cell_type": "code",
      "source": [
        "# Solicita ao usuário que insira um número inteiro positivo\n",
        "numero = int(input(\"Digite um número inteiro positivo: \"))\n",
        "\n",
        "# Verifica se o número é menor ou igual a 1\n",
        "if numero <= 1:\n",
        "  print(\"O número não é primo\")\n",
        "else:\n",
        "  # Inicializa uma variável para contar os divisores\n",
        "  divisores = 0\n",
        "\n",
        "  # Itera através dos números de 2 até a raiz quadrada do número inserido\n",
        "  for i in range(2, int(numero**0.5) + 1):\n",
        "    # Verifica se o número é divisível por i\n",
        "    if numero % i == 0:\n",
        "      divisores += 1\n",
        "      break # Se encontrarmos um divisor, não é primo, podemos sair do loop\n",
        "\n",
        "  # Se não houver divisores além de 1 e o próprio número, é primo\n",
        "  if divisores == 0:\n",
        "    print(\"O número é primo\")\n",
        "  else:\n",
        "    print(\"O número não é primo\")"
      ],
      "metadata": {
        "colab": {
          "base_uri": "https://localhost:8080/"
        },
        "id": "zmIkYe8zyOBs",
        "outputId": "267f37d6-4cb9-4ab6-d8dd-b124d6b2c0d6"
      },
      "execution_count": null,
      "outputs": [
        {
          "output_type": "stream",
          "name": "stdout",
          "text": [
            "Digite um número inteiro positivo: 7\n",
            "O número é primo\n"
          ]
        }
      ]
    }
  ]
}